{
 "cells": [
  {
   "cell_type": "code",
   "execution_count": 1,
   "metadata": {},
   "outputs": [],
   "source": [
    "import pandas as pd\n",
    "data =pd.read_excel('A:\\\\Programming\\\\AI VISION\\\\Project 1 Part 2\\\\dataset.xlsx')"
   ]
  },
  {
   "cell_type": "code",
   "execution_count": 2,
   "metadata": {},
   "outputs": [],
   "source": [
    "for i in range(len(data.Name)):\n",
    "    if(data[\"Year\"][i]==str(\"3rd\") or data[\"Year\"][i]==str(\"4th\") ):\n",
    "        name= ((data.Name[i]).lower())\n",
    "        mail= data.Email[i]\n",
    "        firstname=name.split(' ')[0]\n",
    "        lastname=name.split(' ')[len(name.split(' '))-1]\n",
    "        if(lastname==''):\n",
    "            lastname=name.split(' ')[len(name.split(' '))-2]\n",
    "        x=mail.find(firstname)\n",
    "        y=mail.find(lastname)\n",
    "        if (x!= -1) or (y!= -1):\n",
    "            data.drop([i],inplace=True)"
   ]
  },
  {
   "cell_type": "code",
   "execution_count": 3,
   "metadata": {},
   "outputs": [],
   "source": [
    "data=data.reset_index(drop=True)\n",
    "l=len(data.Name)\n",
    "c=0\n",
    "for j in range(len(data.Name)):\n",
    "    if(data[\"Department\"][j]==str(\"CE\")  or data[\"Department\"][j]==str(\"ME\") ):\n",
    "        c=c+1"
   ]
  },
  {
   "cell_type": "code",
   "execution_count": 4,
   "metadata": {},
   "outputs": [
    {
     "name": "stdout",
     "output_type": "stream",
     "text": [
      "DriAIveX Cancelled as Sum of ME and CE students is less than 10% of Total Eligible Students.\n"
     ]
    }
   ],
   "source": [
    "l=len(data.Name)\n",
    "if l>=30 :\n",
    "    if c>=(0.1*l):\n",
    "        print(\"DriAIveX EXISTS. All Criteria SATISFIED.\")\n",
    "    else:\n",
    "        print(\"DriAIveX Cancelled as Sum of ME and CE students is less than 10% of Total Eligible Students.\")\n",
    "else:\n",
    "    print(\"DrAIveX Cancelled as Total Number of Eligible Students less than 30.\")"
   ]
  },
  {
   "cell_type": "code",
   "execution_count": null,
   "metadata": {},
   "outputs": [],
   "source": []
  }
 ],
 "metadata": {
  "kernelspec": {
   "display_name": "Python 3",
   "language": "python",
   "name": "python3"
  },
  "language_info": {
   "codemirror_mode": {
    "name": "ipython",
    "version": 3
   },
   "file_extension": ".py",
   "mimetype": "text/x-python",
   "name": "python",
   "nbconvert_exporter": "python",
   "pygments_lexer": "ipython3",
   "version": "3.5.2"
  }
 },
 "nbformat": 4,
 "nbformat_minor": 2
}
